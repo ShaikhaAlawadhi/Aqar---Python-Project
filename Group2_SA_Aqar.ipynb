{
 "cells": [
  {
   "cell_type": "markdown",
   "id": "c4c8d849-1ad9-442c-9000-3c662dd960b1",
   "metadata": {},
   "source": [
    "# Exploratory Data Analysis: Saudi Arabia Real Estate Market"
   ]
  },
  {
   "cell_type": "markdown",
   "id": "6ee647b6-2a4d-4f0d-ad86-e05fd668ff9d",
   "metadata": {},
   "source": [
    "#### Analyised By: Shaikha Alawadhi - Maitham Mansoor - Hussain Zainal"
   ]
  },
  {
   "cell_type": "markdown",
   "id": "04024642-64d8-4def-a9d2-9458e307d7b2",
   "metadata": {},
   "source": [
    "# Introduction\n",
    "\n",
    "Exploratory Data Analysis on SA_Aqar.csv\n",
    "This dataset contains real estate listings from Saudi Arabia. We'll explore pricing trends, property sizes, and regional differences.\n"
   ]
  },
  {
   "cell_type": "code",
   "execution_count": 2,
   "id": "bfdeb6df-bd69-4177-ae6d-e293bd8f02ed",
   "metadata": {},
   "outputs": [],
   "source": [
    "import pandas as pd\n",
    "import numpy as np\n",
    "import matplotlib.pyplot as plt\n",
    "import seaborn as sns\n",
    "\n",
    "sns.set(style=\"whitegrid\")\n"
   ]
  },
  {
   "cell_type": "code",
   "execution_count": 3,
   "id": "b9856d31-fa54-45dc-9b12-4716745d0352",
   "metadata": {},
   "outputs": [
    {
     "data": {
      "text/html": [
       "<div>\n",
       "<style scoped>\n",
       "    .dataframe tbody tr th:only-of-type {\n",
       "        vertical-align: middle;\n",
       "    }\n",
       "\n",
       "    .dataframe tbody tr th {\n",
       "        vertical-align: top;\n",
       "    }\n",
       "\n",
       "    .dataframe thead th {\n",
       "        text-align: right;\n",
       "    }\n",
       "</style>\n",
       "<table border=\"1\" class=\"dataframe\">\n",
       "  <thead>\n",
       "    <tr style=\"text-align: right;\">\n",
       "      <th></th>\n",
       "      <th>city</th>\n",
       "      <th>district</th>\n",
       "      <th>front</th>\n",
       "      <th>size</th>\n",
       "      <th>property_age</th>\n",
       "      <th>bedrooms</th>\n",
       "      <th>bathrooms</th>\n",
       "      <th>livingrooms</th>\n",
       "      <th>kitchen</th>\n",
       "      <th>garage</th>\n",
       "      <th>...</th>\n",
       "      <th>roof</th>\n",
       "      <th>pool</th>\n",
       "      <th>frontyard</th>\n",
       "      <th>basement</th>\n",
       "      <th>duplex</th>\n",
       "      <th>stairs</th>\n",
       "      <th>elevator</th>\n",
       "      <th>fireplace</th>\n",
       "      <th>price</th>\n",
       "      <th>details</th>\n",
       "    </tr>\n",
       "  </thead>\n",
       "  <tbody>\n",
       "    <tr>\n",
       "      <th>0</th>\n",
       "      <td>الرياض</td>\n",
       "      <td>حي العارض</td>\n",
       "      <td>شمال</td>\n",
       "      <td>250</td>\n",
       "      <td>0</td>\n",
       "      <td>5</td>\n",
       "      <td>5</td>\n",
       "      <td>1</td>\n",
       "      <td>1</td>\n",
       "      <td>1</td>\n",
       "      <td>...</td>\n",
       "      <td>0</td>\n",
       "      <td>0</td>\n",
       "      <td>1</td>\n",
       "      <td>0</td>\n",
       "      <td>1</td>\n",
       "      <td>1</td>\n",
       "      <td>0</td>\n",
       "      <td>0</td>\n",
       "      <td>80000</td>\n",
       "      <td>للايجار فيلا دبلكس في موقع ممتاز جدا بالقرب من...</td>\n",
       "    </tr>\n",
       "    <tr>\n",
       "      <th>1</th>\n",
       "      <td>الرياض</td>\n",
       "      <td>حي القادسية</td>\n",
       "      <td>جنوب</td>\n",
       "      <td>370</td>\n",
       "      <td>0</td>\n",
       "      <td>4</td>\n",
       "      <td>5</td>\n",
       "      <td>2</td>\n",
       "      <td>1</td>\n",
       "      <td>1</td>\n",
       "      <td>...</td>\n",
       "      <td>0</td>\n",
       "      <td>0</td>\n",
       "      <td>1</td>\n",
       "      <td>0</td>\n",
       "      <td>0</td>\n",
       "      <td>1</td>\n",
       "      <td>0</td>\n",
       "      <td>0</td>\n",
       "      <td>60000</td>\n",
       "      <td>*** فيلا درج مع الصالة جديدة ***\\n\\nعبارة عن م...</td>\n",
       "    </tr>\n",
       "    <tr>\n",
       "      <th>2</th>\n",
       "      <td>الرياض</td>\n",
       "      <td>حي القادسية</td>\n",
       "      <td>جنوب</td>\n",
       "      <td>380</td>\n",
       "      <td>0</td>\n",
       "      <td>4</td>\n",
       "      <td>5</td>\n",
       "      <td>1</td>\n",
       "      <td>1</td>\n",
       "      <td>1</td>\n",
       "      <td>...</td>\n",
       "      <td>1</td>\n",
       "      <td>0</td>\n",
       "      <td>1</td>\n",
       "      <td>0</td>\n",
       "      <td>0</td>\n",
       "      <td>1</td>\n",
       "      <td>0</td>\n",
       "      <td>0</td>\n",
       "      <td>60000</td>\n",
       "      <td>فيلا للايجار درج داخلي مشب خارجي مجلس مقلط وصا...</td>\n",
       "    </tr>\n",
       "    <tr>\n",
       "      <th>3</th>\n",
       "      <td>الرياض</td>\n",
       "      <td>حي المعيزلة</td>\n",
       "      <td>غرب</td>\n",
       "      <td>250</td>\n",
       "      <td>0</td>\n",
       "      <td>5</td>\n",
       "      <td>5</td>\n",
       "      <td>3</td>\n",
       "      <td>0</td>\n",
       "      <td>1</td>\n",
       "      <td>...</td>\n",
       "      <td>0</td>\n",
       "      <td>0</td>\n",
       "      <td>1</td>\n",
       "      <td>0</td>\n",
       "      <td>0</td>\n",
       "      <td>0</td>\n",
       "      <td>0</td>\n",
       "      <td>0</td>\n",
       "      <td>55000</td>\n",
       "      <td>فيلا للايجار        جديده لن تستخدم          ش...</td>\n",
       "    </tr>\n",
       "    <tr>\n",
       "      <th>4</th>\n",
       "      <td>الرياض</td>\n",
       "      <td>حي العليا</td>\n",
       "      <td>غرب</td>\n",
       "      <td>400</td>\n",
       "      <td>11</td>\n",
       "      <td>7</td>\n",
       "      <td>5</td>\n",
       "      <td>2</td>\n",
       "      <td>1</td>\n",
       "      <td>1</td>\n",
       "      <td>...</td>\n",
       "      <td>1</td>\n",
       "      <td>0</td>\n",
       "      <td>1</td>\n",
       "      <td>0</td>\n",
       "      <td>1</td>\n",
       "      <td>1</td>\n",
       "      <td>0</td>\n",
       "      <td>0</td>\n",
       "      <td>70000</td>\n",
       "      <td>فيلا للايجار حي العليا \\n\\nالارضي مجالس وغرفتي...</td>\n",
       "    </tr>\n",
       "  </tbody>\n",
       "</table>\n",
       "<p>5 rows × 24 columns</p>\n",
       "</div>"
      ],
      "text/plain": [
       "      city         district front  size  property_age  bedrooms  bathrooms  \\\n",
       "0   الرياض       حي العارض   شمال   250             0         5          5   \n",
       "1   الرياض     حي القادسية   جنوب   370             0         4          5   \n",
       "2   الرياض     حي القادسية   جنوب   380             0         4          5   \n",
       "3   الرياض     حي المعيزلة    غرب   250             0         5          5   \n",
       "4   الرياض       حي العليا    غرب   400            11         7          5   \n",
       "\n",
       "   livingrooms  kitchen  garage  ...  roof  pool  frontyard  basement  duplex  \\\n",
       "0            1        1       1  ...     0     0          1         0       1   \n",
       "1            2        1       1  ...     0     0          1         0       0   \n",
       "2            1        1       1  ...     1     0          1         0       0   \n",
       "3            3        0       1  ...     0     0          1         0       0   \n",
       "4            2        1       1  ...     1     0          1         0       1   \n",
       "\n",
       "   stairs  elevator  fireplace  price  \\\n",
       "0       1         0          0  80000   \n",
       "1       1         0          0  60000   \n",
       "2       1         0          0  60000   \n",
       "3       0         0          0  55000   \n",
       "4       1         0          0  70000   \n",
       "\n",
       "                                             details  \n",
       "0  للايجار فيلا دبلكس في موقع ممتاز جدا بالقرب من...  \n",
       "1  *** فيلا درج مع الصالة جديدة ***\\n\\nعبارة عن م...  \n",
       "2  فيلا للايجار درج داخلي مشب خارجي مجلس مقلط وصا...  \n",
       "3  فيلا للايجار        جديده لن تستخدم          ش...  \n",
       "4  فيلا للايجار حي العليا \\n\\nالارضي مجالس وغرفتي...  \n",
       "\n",
       "[5 rows x 24 columns]"
      ]
     },
     "execution_count": 3,
     "metadata": {},
     "output_type": "execute_result"
    }
   ],
   "source": [
    "df = pd.read_csv('SA_Aqar.csv')\n",
    "df.head()\n"
   ]
  },
  {
   "cell_type": "code",
   "execution_count": 4,
   "id": "f3d85c8b-b097-46f7-8600-18739d8c4aff",
   "metadata": {},
   "outputs": [
    {
     "name": "stdout",
     "output_type": "stream",
     "text": [
      "<class 'pandas.core.frame.DataFrame'>\n",
      "RangeIndex: 3718 entries, 0 to 3717\n",
      "Data columns (total 24 columns):\n",
      " #   Column        Non-Null Count  Dtype \n",
      "---  ------        --------------  ----- \n",
      " 0   city          3718 non-null   object\n",
      " 1   district      3718 non-null   object\n",
      " 2   front         3718 non-null   object\n",
      " 3   size          3718 non-null   int64 \n",
      " 4   property_age  3718 non-null   int64 \n",
      " 5   bedrooms      3718 non-null   int64 \n",
      " 6   bathrooms     3718 non-null   int64 \n",
      " 7   livingrooms   3718 non-null   int64 \n",
      " 8   kitchen       3718 non-null   int64 \n",
      " 9   garage        3718 non-null   int64 \n",
      " 10  driver_room   3718 non-null   int64 \n",
      " 11  maid_room     3718 non-null   int64 \n",
      " 12  furnished     3718 non-null   int64 \n",
      " 13  ac            3718 non-null   int64 \n",
      " 14  roof          3718 non-null   int64 \n",
      " 15  pool          3718 non-null   int64 \n",
      " 16  frontyard     3718 non-null   int64 \n",
      " 17  basement      3718 non-null   int64 \n",
      " 18  duplex        3718 non-null   int64 \n",
      " 19  stairs        3718 non-null   int64 \n",
      " 20  elevator      3718 non-null   int64 \n",
      " 21  fireplace     3718 non-null   int64 \n",
      " 22  price         3718 non-null   int64 \n",
      " 23  details       3638 non-null   object\n",
      "dtypes: int64(20), object(4)\n",
      "memory usage: 697.3+ KB\n"
     ]
    },
    {
     "data": {
      "text/plain": [
       "Index(['city', 'district', 'front', 'size', 'property_age', 'bedrooms',\n",
       "       'bathrooms', 'livingrooms', 'kitchen', 'garage', 'driver_room',\n",
       "       'maid_room', 'furnished', 'ac', 'roof', 'pool', 'frontyard', 'basement',\n",
       "       'duplex', 'stairs', 'elevator', 'fireplace', 'price', 'details'],\n",
       "      dtype='object')"
      ]
     },
     "execution_count": 4,
     "metadata": {},
     "output_type": "execute_result"
    }
   ],
   "source": [
    "df.info()\n",
    "df.describe()\n",
    "df.columns\n"
   ]
  },
  {
   "cell_type": "code",
   "execution_count": 6,
   "id": "17e7a7b8-7daf-4a8a-a79a-b4b28617d17e",
   "metadata": {},
   "outputs": [],
   "source": [
    "\n",
    "df.drop_duplicates(inplace=True)\n",
    "\n",
    "\n",
    "df.isnull().sum()\n",
    "df.fillna({'price': df['price'].median()}, inplace=True)\n",
    "\n",
    "df['price'] = pd.to_numeric(df['price'], errors='coerce')\n"
   ]
  },
  {
   "cell_type": "code",
   "execution_count": 7,
   "id": "5d92c5d8-8f71-4224-8d07-bf3c09df270d",
   "metadata": {},
   "outputs": [],
   "source": [
    "\n",
    "df['price_per_m2'] = df['price'] / df['size']\n"
   ]
  },
  {
   "cell_type": "markdown",
   "id": "e2cda7df-41ab-48ef-aeac-5bea731d4d84",
   "metadata": {},
   "source": [
    "### Questions\n",
    "\n",
    "What are the average prices by city?\n",
    "\n",
    "Which districts have the largest properties?\n",
    "\n",
    "Is there a correlation between size and price?\n"
   ]
  },
  {
   "cell_type": "code",
   "execution_count": 18,
   "id": "1bfad6d8-9c78-4a26-9582-466333fe9adb",
   "metadata": {},
   "outputs": [
    {
     "data": {
      "image/png": "[encoded data removed]",
      "text/plain": [
       "<Figure size 1000x600 with 1 Axes>"
      ]
     },
     "metadata": {},
     "output_type": "display_data"
    },
    {
     "data": {
      "image/png": "[encoded data removed]",
      "text/plain": [
       "<Figure size 1200x600 with 1 Axes>"
      ]
     },
     "metadata": {},
     "output_type": "display_data"
    }
   ],
   "source": [
    "\n",
    "import seaborn as sns\n",
    "import matplotlib.ticker as ticker\n",
    "\n",
    "# Price distribution\n",
    "plt.figure(figsize=(10,6))\n",
    "sns.histplot(df['price'], bins=50, kde=True)\n",
    "plt.title('Price Distribution')\n",
    "plt.xlabel('Price')\n",
    "plt.ylabel('Frequency')\n",
    "\n",
    "# Format x-axis to show full numbers\n",
    "plt.gca().xaxis.set_major_formatter(ticker.FuncFormatter(lambda x, _: f'{int(x):,}'))\n",
    "\n",
    "plt.show()\n",
    "\n",
    "# Price by city\n",
    "plt.figure(figsize=(12,6))\n",
    "sns.boxplot(x='city', y='price', data=df)\n",
    "plt.xticks(rotation=45)\n",
    "plt.title('Price by City')\n",
    "\n",
    "# Format y-axis to show full numbers\n",
    "plt.gca().yaxis.set_major_formatter(ticker.FuncFormatter(lambda y, _: f'{int(y):,}'))\n",
    "\n",
    "plt.show()\n",
    "\n",
    "\n",
    "\n",
    "\n"
   ]
  },
  {
   "cell_type": "code",
   "execution_count": 19,
   "id": "eb683c79-979a-4b5f-a869-8a616691b23f",
   "metadata": {},
   "outputs": [
    {
     "data": {
      "text/html": [
       "<div>\n",
       "<style scoped>\n",
       "    .dataframe tbody tr th:only-of-type {\n",
       "        vertical-align: middle;\n",
       "    }\n",
       "\n",
       "    .dataframe tbody tr th {\n",
       "        vertical-align: top;\n",
       "    }\n",
       "\n",
       "    .dataframe thead th {\n",
       "        text-align: right;\n",
       "    }\n",
       "</style>\n",
       "<table border=\"1\" class=\"dataframe\">\n",
       "  <thead>\n",
       "    <tr style=\"text-align: right;\">\n",
       "      <th></th>\n",
       "      <th>mean</th>\n",
       "      <th>median</th>\n",
       "      <th>max</th>\n",
       "    </tr>\n",
       "    <tr>\n",
       "      <th>city</th>\n",
       "      <th></th>\n",
       "      <th></th>\n",
       "      <th></th>\n",
       "    </tr>\n",
       "  </thead>\n",
       "  <tbody>\n",
       "    <tr>\n",
       "      <th>جدة</th>\n",
       "      <td>122114.610706</td>\n",
       "      <td>100000.0</td>\n",
       "      <td>1700000</td>\n",
       "    </tr>\n",
       "    <tr>\n",
       "      <th>الرياض</th>\n",
       "      <td>95082.890487</td>\n",
       "      <td>80000.0</td>\n",
       "      <td>800000</td>\n",
       "    </tr>\n",
       "    <tr>\n",
       "      <th>الخبر</th>\n",
       "      <td>75613.855422</td>\n",
       "      <td>65000.0</td>\n",
       "      <td>180000</td>\n",
       "    </tr>\n",
       "    <tr>\n",
       "      <th>الدمام</th>\n",
       "      <td>72556.910569</td>\n",
       "      <td>60000.0</td>\n",
       "      <td>800000</td>\n",
       "    </tr>\n",
       "  </tbody>\n",
       "</table>\n",
       "</div>"
      ],
      "text/plain": [
       "                 mean    median      max\n",
       "city                                    \n",
       "جدة     122114.610706  100000.0  1700000\n",
       "الرياض   95082.890487   80000.0   800000\n",
       "الخبر    75613.855422   65000.0   180000\n",
       "الدمام   72556.910569   60000.0   800000"
      ]
     },
     "execution_count": 19,
     "metadata": {},
     "output_type": "execute_result"
    }
   ],
   "source": [
    "df.groupby('city')['price'].agg(['mean', 'median', 'max']).sort_values(by='mean', ascending=False)\n"
   ]
  },
  {
   "cell_type": "markdown",
   "id": "2433e3a4-1cf5-4c13-8351-cdef6ce937e6",
   "metadata": {},
   "source": [
    "# Key Findings:\n",
    "- Riyadh and Jeddah have the highest average property prices.\n",
    "- There is a moderate correlation between size and price.\n",
    "- Some districts consistently show higher price per square meter."
   ]
  },
  {
   "cell_type": "markdown",
   "id": "4540ca71-b71b-4d13-b20d-9773d650d283",
   "metadata": {},
   "source": [
    "# Recommendations:\n",
    "- Focus marketing efforts on high-value districts.\n",
    "- Consider further segmentation by property type."
   ]
  }
 ],
 "metadata": {
  "kernelspec": {
   "display_name": "Python [conda env:base] *",
   "language": "python",
   "name": "conda-base-py"
  },
  "language_info": {
   "codemirror_mode": {
    "name": "ipython",
    "version": 3
   },
   "file_extension": ".py",
   "mimetype": "text/x-python",
   "name": "python",
   "nbconvert_exporter": "python",
   "pygments_lexer": "ipython3",
   "version": "3.12.7"
  }
 },
 "nbformat": 4,
 "nbformat_minor": 5
}
